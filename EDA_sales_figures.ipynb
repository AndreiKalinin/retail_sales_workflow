{
 "cells": [
  {
   "cell_type": "markdown",
   "id": "6812f8b4",
   "metadata": {},
   "source": [
    "# Sales figures"
   ]
  },
  {
   "cell_type": "code",
   "execution_count": 129,
   "id": "73eeead5",
   "metadata": {},
   "outputs": [],
   "source": [
    "import pandas as pd\n",
    "import numpy as np\n",
    "import matplotlib.pyplot as plt\n",
    "import seaborn as sns\n",
    "\n",
    "plt.style.use('seaborn')"
   ]
  },
  {
   "cell_type": "code",
   "execution_count": 130,
   "id": "5d381466",
   "metadata": {},
   "outputs": [],
   "source": [
    "df_sales = pd.read_excel('salesworkload.xlsx', sheet_name='sales_figures', header=1)"
   ]
  },
  {
   "cell_type": "code",
   "execution_count": 131,
   "id": "6b5b9b10",
   "metadata": {},
   "outputs": [
    {
     "data": {
      "text/html": [
       "<div>\n",
       "<style scoped>\n",
       "    .dataframe tbody tr th:only-of-type {\n",
       "        vertical-align: middle;\n",
       "    }\n",
       "\n",
       "    .dataframe tbody tr th {\n",
       "        vertical-align: top;\n",
       "    }\n",
       "\n",
       "    .dataframe thead th {\n",
       "        text-align: right;\n",
       "    }\n",
       "</style>\n",
       "<table border=\"1\" class=\"dataframe\">\n",
       "  <thead>\n",
       "    <tr style=\"text-align: right;\">\n",
       "      <th></th>\n",
       "      <th>MonthYear</th>\n",
       "      <th>Time index</th>\n",
       "      <th>Country</th>\n",
       "      <th>StoreID</th>\n",
       "      <th>City</th>\n",
       "      <th>Dept_ID</th>\n",
       "      <th>Dept. Name</th>\n",
       "      <th>HoursOwn</th>\n",
       "      <th>HoursLease</th>\n",
       "      <th>Sales units</th>\n",
       "      <th>Turnover</th>\n",
       "      <th>Customer</th>\n",
       "      <th>Area (m2)</th>\n",
       "      <th>Opening hours</th>\n",
       "    </tr>\n",
       "  </thead>\n",
       "  <tbody>\n",
       "    <tr>\n",
       "      <th>0</th>\n",
       "      <td>10.2016</td>\n",
       "      <td>1.0</td>\n",
       "      <td>United Kingdom</td>\n",
       "      <td>88253.0</td>\n",
       "      <td>London (I)</td>\n",
       "      <td>1.0</td>\n",
       "      <td>Dry</td>\n",
       "      <td>3184.764</td>\n",
       "      <td>0.0</td>\n",
       "      <td>398560.0</td>\n",
       "      <td>1226244.0</td>\n",
       "      <td>NaN</td>\n",
       "      <td>953.04</td>\n",
       "      <td>Type A</td>\n",
       "    </tr>\n",
       "    <tr>\n",
       "      <th>1</th>\n",
       "      <td>10.2016</td>\n",
       "      <td>1.0</td>\n",
       "      <td>United Kingdom</td>\n",
       "      <td>88253.0</td>\n",
       "      <td>London (I)</td>\n",
       "      <td>2.0</td>\n",
       "      <td>Frozen</td>\n",
       "      <td>1582.941</td>\n",
       "      <td>0.0</td>\n",
       "      <td>82725.0</td>\n",
       "      <td>387810.0</td>\n",
       "      <td>NaN</td>\n",
       "      <td>720.48</td>\n",
       "      <td>Type A</td>\n",
       "    </tr>\n",
       "    <tr>\n",
       "      <th>2</th>\n",
       "      <td>10.2016</td>\n",
       "      <td>1.0</td>\n",
       "      <td>United Kingdom</td>\n",
       "      <td>88253.0</td>\n",
       "      <td>London (I)</td>\n",
       "      <td>3.0</td>\n",
       "      <td>other</td>\n",
       "      <td>47.205</td>\n",
       "      <td>0.0</td>\n",
       "      <td>438400.0</td>\n",
       "      <td>654657.0</td>\n",
       "      <td>NaN</td>\n",
       "      <td>966.72</td>\n",
       "      <td>Type A</td>\n",
       "    </tr>\n",
       "    <tr>\n",
       "      <th>3</th>\n",
       "      <td>10.2016</td>\n",
       "      <td>1.0</td>\n",
       "      <td>United Kingdom</td>\n",
       "      <td>88253.0</td>\n",
       "      <td>London (I)</td>\n",
       "      <td>4.0</td>\n",
       "      <td>Fish</td>\n",
       "      <td>1623.852</td>\n",
       "      <td>0.0</td>\n",
       "      <td>309425.0</td>\n",
       "      <td>499434.0</td>\n",
       "      <td>NaN</td>\n",
       "      <td>1053.36</td>\n",
       "      <td>Type A</td>\n",
       "    </tr>\n",
       "    <tr>\n",
       "      <th>4</th>\n",
       "      <td>10.2016</td>\n",
       "      <td>1.0</td>\n",
       "      <td>United Kingdom</td>\n",
       "      <td>88253.0</td>\n",
       "      <td>London (I)</td>\n",
       "      <td>5.0</td>\n",
       "      <td>Fruits &amp; Vegetables</td>\n",
       "      <td>1759.173</td>\n",
       "      <td>0.0</td>\n",
       "      <td>165515.0</td>\n",
       "      <td>329397.0</td>\n",
       "      <td>NaN</td>\n",
       "      <td>1053.36</td>\n",
       "      <td>Type A</td>\n",
       "    </tr>\n",
       "  </tbody>\n",
       "</table>\n",
       "</div>"
      ],
      "text/plain": [
       "  MonthYear  Time index         Country  StoreID        City  Dept_ID  \\\n",
       "0   10.2016         1.0  United Kingdom  88253.0  London (I)      1.0   \n",
       "1   10.2016         1.0  United Kingdom  88253.0  London (I)      2.0   \n",
       "2   10.2016         1.0  United Kingdom  88253.0  London (I)      3.0   \n",
       "3   10.2016         1.0  United Kingdom  88253.0  London (I)      4.0   \n",
       "4   10.2016         1.0  United Kingdom  88253.0  London (I)      5.0   \n",
       "\n",
       "            Dept. Name  HoursOwn  HoursLease  Sales units   Turnover  \\\n",
       "0                  Dry  3184.764         0.0     398560.0  1226244.0   \n",
       "1               Frozen  1582.941         0.0      82725.0   387810.0   \n",
       "2                other    47.205         0.0     438400.0   654657.0   \n",
       "3                 Fish  1623.852         0.0     309425.0   499434.0   \n",
       "4  Fruits & Vegetables  1759.173         0.0     165515.0   329397.0   \n",
       "\n",
       "   Customer Area (m2) Opening hours  \n",
       "0       NaN    953.04        Type A  \n",
       "1       NaN    720.48        Type A  \n",
       "2       NaN    966.72        Type A  \n",
       "3       NaN   1053.36        Type A  \n",
       "4       NaN   1053.36        Type A  "
      ]
     },
     "execution_count": 131,
     "metadata": {},
     "output_type": "execute_result"
    }
   ],
   "source": [
    "df_sales.head()"
   ]
  },
  {
   "cell_type": "markdown",
   "id": "4d55e46c",
   "metadata": {},
   "source": [
    "### Fix data type issues"
   ]
  },
  {
   "cell_type": "code",
   "execution_count": 132,
   "id": "1497e861",
   "metadata": {},
   "outputs": [
    {
     "name": "stdout",
     "output_type": "stream",
     "text": [
      "<class 'pandas.core.frame.DataFrame'>\n",
      "RangeIndex: 7658 entries, 0 to 7657\n",
      "Data columns (total 14 columns):\n",
      " #   Column         Non-Null Count  Dtype  \n",
      "---  ------         --------------  -----  \n",
      " 0   MonthYear      7658 non-null   object \n",
      " 1   Time index     7650 non-null   float64\n",
      " 2   Country        7650 non-null   object \n",
      " 3   StoreID        7650 non-null   float64\n",
      " 4   City           7650 non-null   object \n",
      " 5   Dept_ID        7650 non-null   float64\n",
      " 6   Dept. Name     7650 non-null   object \n",
      " 7   HoursOwn       7650 non-null   object \n",
      " 8   HoursLease     7650 non-null   float64\n",
      " 9   Sales units    7650 non-null   float64\n",
      " 10  Turnover       7650 non-null   float64\n",
      " 11  Customer       0 non-null      float64\n",
      " 12  Area (m2)      7650 non-null   object \n",
      " 13  Opening hours  7650 non-null   object \n",
      "dtypes: float64(7), object(7)\n",
      "memory usage: 837.7+ KB\n"
     ]
    }
   ],
   "source": [
    "df_sales.info()"
   ]
  },
  {
   "cell_type": "code",
   "execution_count": 133,
   "id": "b7156493",
   "metadata": {},
   "outputs": [
    {
     "data": {
      "text/plain": [
       "array(['10.2016', ' - - - - ', '11.2016', '12.2016', '01.2017', '02.2017',\n",
       "       '03.2017', '04.2017', '05.2017', '06.2017'], dtype=object)"
      ]
     },
     "execution_count": 133,
     "metadata": {},
     "output_type": "execute_result"
    }
   ],
   "source": [
    "# fix MonthYear and convert to datetime\n",
    "\n",
    "df_sales['MonthYear'].unique()"
   ]
  },
  {
   "cell_type": "code",
   "execution_count": 134,
   "id": "3f58f713",
   "metadata": {},
   "outputs": [
    {
     "data": {
      "text/html": [
       "<div>\n",
       "<style scoped>\n",
       "    .dataframe tbody tr th:only-of-type {\n",
       "        vertical-align: middle;\n",
       "    }\n",
       "\n",
       "    .dataframe tbody tr th {\n",
       "        vertical-align: top;\n",
       "    }\n",
       "\n",
       "    .dataframe thead th {\n",
       "        text-align: right;\n",
       "    }\n",
       "</style>\n",
       "<table border=\"1\" class=\"dataframe\">\n",
       "  <thead>\n",
       "    <tr style=\"text-align: right;\">\n",
       "      <th></th>\n",
       "      <th>MonthYear</th>\n",
       "      <th>Time index</th>\n",
       "      <th>Country</th>\n",
       "      <th>StoreID</th>\n",
       "      <th>City</th>\n",
       "      <th>Dept_ID</th>\n",
       "      <th>Dept. Name</th>\n",
       "      <th>HoursOwn</th>\n",
       "      <th>HoursLease</th>\n",
       "      <th>Sales units</th>\n",
       "      <th>Turnover</th>\n",
       "      <th>Customer</th>\n",
       "      <th>Area (m2)</th>\n",
       "      <th>Opening hours</th>\n",
       "    </tr>\n",
       "  </thead>\n",
       "  <tbody>\n",
       "    <tr>\n",
       "      <th>850</th>\n",
       "      <td>- - - -</td>\n",
       "      <td>NaN</td>\n",
       "      <td>NaN</td>\n",
       "      <td>NaN</td>\n",
       "      <td>NaN</td>\n",
       "      <td>NaN</td>\n",
       "      <td>NaN</td>\n",
       "      <td>NaN</td>\n",
       "      <td>NaN</td>\n",
       "      <td>NaN</td>\n",
       "      <td>NaN</td>\n",
       "      <td>NaN</td>\n",
       "      <td>NaN</td>\n",
       "      <td>NaN</td>\n",
       "    </tr>\n",
       "    <tr>\n",
       "      <th>1701</th>\n",
       "      <td>- - - -</td>\n",
       "      <td>NaN</td>\n",
       "      <td>NaN</td>\n",
       "      <td>NaN</td>\n",
       "      <td>NaN</td>\n",
       "      <td>NaN</td>\n",
       "      <td>NaN</td>\n",
       "      <td>NaN</td>\n",
       "      <td>NaN</td>\n",
       "      <td>NaN</td>\n",
       "      <td>NaN</td>\n",
       "      <td>NaN</td>\n",
       "      <td>NaN</td>\n",
       "      <td>NaN</td>\n",
       "    </tr>\n",
       "    <tr>\n",
       "      <th>2552</th>\n",
       "      <td>- - - -</td>\n",
       "      <td>NaN</td>\n",
       "      <td>NaN</td>\n",
       "      <td>NaN</td>\n",
       "      <td>NaN</td>\n",
       "      <td>NaN</td>\n",
       "      <td>NaN</td>\n",
       "      <td>NaN</td>\n",
       "      <td>NaN</td>\n",
       "      <td>NaN</td>\n",
       "      <td>NaN</td>\n",
       "      <td>NaN</td>\n",
       "      <td>NaN</td>\n",
       "      <td>NaN</td>\n",
       "    </tr>\n",
       "    <tr>\n",
       "      <th>3403</th>\n",
       "      <td>- - - -</td>\n",
       "      <td>NaN</td>\n",
       "      <td>NaN</td>\n",
       "      <td>NaN</td>\n",
       "      <td>NaN</td>\n",
       "      <td>NaN</td>\n",
       "      <td>NaN</td>\n",
       "      <td>NaN</td>\n",
       "      <td>NaN</td>\n",
       "      <td>NaN</td>\n",
       "      <td>NaN</td>\n",
       "      <td>NaN</td>\n",
       "      <td>NaN</td>\n",
       "      <td>NaN</td>\n",
       "    </tr>\n",
       "    <tr>\n",
       "      <th>4254</th>\n",
       "      <td>- - - -</td>\n",
       "      <td>NaN</td>\n",
       "      <td>NaN</td>\n",
       "      <td>NaN</td>\n",
       "      <td>NaN</td>\n",
       "      <td>NaN</td>\n",
       "      <td>NaN</td>\n",
       "      <td>NaN</td>\n",
       "      <td>NaN</td>\n",
       "      <td>NaN</td>\n",
       "      <td>NaN</td>\n",
       "      <td>NaN</td>\n",
       "      <td>NaN</td>\n",
       "      <td>NaN</td>\n",
       "    </tr>\n",
       "    <tr>\n",
       "      <th>5105</th>\n",
       "      <td>- - - -</td>\n",
       "      <td>NaN</td>\n",
       "      <td>NaN</td>\n",
       "      <td>NaN</td>\n",
       "      <td>NaN</td>\n",
       "      <td>NaN</td>\n",
       "      <td>NaN</td>\n",
       "      <td>NaN</td>\n",
       "      <td>NaN</td>\n",
       "      <td>NaN</td>\n",
       "      <td>NaN</td>\n",
       "      <td>NaN</td>\n",
       "      <td>NaN</td>\n",
       "      <td>NaN</td>\n",
       "    </tr>\n",
       "    <tr>\n",
       "      <th>5956</th>\n",
       "      <td>- - - -</td>\n",
       "      <td>NaN</td>\n",
       "      <td>NaN</td>\n",
       "      <td>NaN</td>\n",
       "      <td>NaN</td>\n",
       "      <td>NaN</td>\n",
       "      <td>NaN</td>\n",
       "      <td>NaN</td>\n",
       "      <td>NaN</td>\n",
       "      <td>NaN</td>\n",
       "      <td>NaN</td>\n",
       "      <td>NaN</td>\n",
       "      <td>NaN</td>\n",
       "      <td>NaN</td>\n",
       "    </tr>\n",
       "    <tr>\n",
       "      <th>6807</th>\n",
       "      <td>- - - -</td>\n",
       "      <td>NaN</td>\n",
       "      <td>NaN</td>\n",
       "      <td>NaN</td>\n",
       "      <td>NaN</td>\n",
       "      <td>NaN</td>\n",
       "      <td>NaN</td>\n",
       "      <td>NaN</td>\n",
       "      <td>NaN</td>\n",
       "      <td>NaN</td>\n",
       "      <td>NaN</td>\n",
       "      <td>NaN</td>\n",
       "      <td>NaN</td>\n",
       "      <td>NaN</td>\n",
       "    </tr>\n",
       "  </tbody>\n",
       "</table>\n",
       "</div>"
      ],
      "text/plain": [
       "      MonthYear  Time index Country  StoreID City  Dept_ID Dept. Name  \\\n",
       "850    - - - -          NaN     NaN      NaN  NaN      NaN        NaN   \n",
       "1701   - - - -          NaN     NaN      NaN  NaN      NaN        NaN   \n",
       "2552   - - - -          NaN     NaN      NaN  NaN      NaN        NaN   \n",
       "3403   - - - -          NaN     NaN      NaN  NaN      NaN        NaN   \n",
       "4254   - - - -          NaN     NaN      NaN  NaN      NaN        NaN   \n",
       "5105   - - - -          NaN     NaN      NaN  NaN      NaN        NaN   \n",
       "5956   - - - -          NaN     NaN      NaN  NaN      NaN        NaN   \n",
       "6807   - - - -          NaN     NaN      NaN  NaN      NaN        NaN   \n",
       "\n",
       "     HoursOwn  HoursLease  Sales units  Turnover  Customer Area (m2)  \\\n",
       "850       NaN         NaN          NaN       NaN       NaN       NaN   \n",
       "1701      NaN         NaN          NaN       NaN       NaN       NaN   \n",
       "2552      NaN         NaN          NaN       NaN       NaN       NaN   \n",
       "3403      NaN         NaN          NaN       NaN       NaN       NaN   \n",
       "4254      NaN         NaN          NaN       NaN       NaN       NaN   \n",
       "5105      NaN         NaN          NaN       NaN       NaN       NaN   \n",
       "5956      NaN         NaN          NaN       NaN       NaN       NaN   \n",
       "6807      NaN         NaN          NaN       NaN       NaN       NaN   \n",
       "\n",
       "     Opening hours  \n",
       "850            NaN  \n",
       "1701           NaN  \n",
       "2552           NaN  \n",
       "3403           NaN  \n",
       "4254           NaN  \n",
       "5105           NaN  \n",
       "5956           NaN  \n",
       "6807           NaN  "
      ]
     },
     "execution_count": 134,
     "metadata": {},
     "output_type": "execute_result"
    }
   ],
   "source": [
    "df_sales[df_sales['MonthYear'] == ' - - - - ']"
   ]
  },
  {
   "cell_type": "code",
   "execution_count": 135,
   "id": "89f121a9",
   "metadata": {},
   "outputs": [],
   "source": [
    "df_sales = df_sales[df_sales['MonthYear'] != ' - - - - ']"
   ]
  },
  {
   "cell_type": "code",
   "execution_count": 136,
   "id": "e1f62b9e",
   "metadata": {},
   "outputs": [],
   "source": [
    "df_sales['MonthYear'] = pd.to_datetime('01.' + df_sales['MonthYear'], dayfirst=True)"
   ]
  },
  {
   "cell_type": "code",
   "execution_count": 137,
   "id": "94199c31",
   "metadata": {},
   "outputs": [],
   "source": [
    "# indexes to int\n",
    "\n",
    "df_sales[['Time index', 'StoreID', 'Dept_ID']] = df_sales[['Time index', 'StoreID', 'Dept_ID']].astype(int)"
   ]
  },
  {
   "cell_type": "code",
   "execution_count": 138,
   "id": "b8bfc674",
   "metadata": {},
   "outputs": [
    {
     "data": {
      "text/plain": [
       "['#NV']"
      ]
     },
     "execution_count": 138,
     "metadata": {},
     "output_type": "execute_result"
    }
   ],
   "source": [
    "# find string value in 'Area (m2)' column\n",
    "\n",
    "[value for value in df_sales['Area (m2)'].unique() if isinstance(value, str)]"
   ]
  },
  {
   "cell_type": "code",
   "execution_count": 139,
   "id": "a4d3c235",
   "metadata": {},
   "outputs": [],
   "source": [
    "df_sales.loc[df_sales['Area (m2)'] == '#NV', 'Area (m2)'] = np.nan\n",
    "df_sales['Area (m2)'] = df_sales['Area (m2)'].astype(float)"
   ]
  },
  {
   "cell_type": "code",
   "execution_count": 140,
   "id": "1580e43b",
   "metadata": {},
   "outputs": [
    {
     "data": {
      "text/plain": [
       "['?']"
      ]
     },
     "execution_count": 140,
     "metadata": {},
     "output_type": "execute_result"
    }
   ],
   "source": [
    "# find string value in 'HoursOwn' column\n",
    "\n",
    "[value for value in df_sales['HoursOwn'].unique() if isinstance(value, str)]"
   ]
  },
  {
   "cell_type": "code",
   "execution_count": 141,
   "id": "5a3f442a",
   "metadata": {},
   "outputs": [
    {
     "name": "stdout",
     "output_type": "stream",
     "text": [
      "<class 'pandas.core.frame.DataFrame'>\n",
      "Int64Index: 7650 entries, 0 to 7657\n",
      "Data columns (total 14 columns):\n",
      " #   Column         Non-Null Count  Dtype         \n",
      "---  ------         --------------  -----         \n",
      " 0   MonthYear      7650 non-null   datetime64[ns]\n",
      " 1   Time index     7650 non-null   int64         \n",
      " 2   Country        7650 non-null   object        \n",
      " 3   StoreID        7650 non-null   int64         \n",
      " 4   City           7650 non-null   object        \n",
      " 5   Dept_ID        7650 non-null   int64         \n",
      " 6   Dept. Name     7650 non-null   object        \n",
      " 7   HoursOwn       7648 non-null   float64       \n",
      " 8   HoursLease     7650 non-null   float64       \n",
      " 9   Sales units    7650 non-null   float64       \n",
      " 10  Turnover       7650 non-null   float64       \n",
      " 11  Customer       0 non-null      float64       \n",
      " 12  Area (m2)      6800 non-null   float64       \n",
      " 13  Opening hours  7650 non-null   object        \n",
      "dtypes: datetime64[ns](1), float64(6), int64(3), object(4)\n",
      "memory usage: 896.5+ KB\n"
     ]
    }
   ],
   "source": [
    "df_sales.loc[df_sales['HoursOwn'] == '?', 'HoursOwn'] = np.nan\n",
    "df_sales['HoursOwn'] = df_sales['HoursOwn'].astype(float)\n",
    "df_sales.info()"
   ]
  },
  {
   "cell_type": "markdown",
   "id": "5df87a2c",
   "metadata": {},
   "source": [
    "### Duplicates check"
   ]
  },
  {
   "cell_type": "code",
   "execution_count": 142,
   "id": "5481debb",
   "metadata": {},
   "outputs": [
    {
     "data": {
      "text/html": [
       "<div>\n",
       "<style scoped>\n",
       "    .dataframe tbody tr th:only-of-type {\n",
       "        vertical-align: middle;\n",
       "    }\n",
       "\n",
       "    .dataframe tbody tr th {\n",
       "        vertical-align: top;\n",
       "    }\n",
       "\n",
       "    .dataframe thead th {\n",
       "        text-align: right;\n",
       "    }\n",
       "</style>\n",
       "<table border=\"1\" class=\"dataframe\">\n",
       "  <thead>\n",
       "    <tr style=\"text-align: right;\">\n",
       "      <th></th>\n",
       "      <th>MonthYear</th>\n",
       "      <th>Time index</th>\n",
       "      <th>Country</th>\n",
       "      <th>StoreID</th>\n",
       "      <th>City</th>\n",
       "      <th>Dept_ID</th>\n",
       "      <th>Dept. Name</th>\n",
       "      <th>HoursOwn</th>\n",
       "      <th>HoursLease</th>\n",
       "      <th>Sales units</th>\n",
       "      <th>Turnover</th>\n",
       "      <th>Customer</th>\n",
       "      <th>Area (m2)</th>\n",
       "      <th>Opening hours</th>\n",
       "    </tr>\n",
       "  </thead>\n",
       "  <tbody>\n",
       "  </tbody>\n",
       "</table>\n",
       "</div>"
      ],
      "text/plain": [
       "Empty DataFrame\n",
       "Columns: [MonthYear, Time index, Country, StoreID, City, Dept_ID, Dept. Name, HoursOwn, HoursLease, Sales units, Turnover, Customer, Area (m2), Opening hours]\n",
       "Index: []"
      ]
     },
     "execution_count": 142,
     "metadata": {},
     "output_type": "execute_result"
    }
   ],
   "source": [
    "df_sales[df_sales.duplicated()]"
   ]
  },
  {
   "cell_type": "code",
   "execution_count": 143,
   "id": "f99b76ba",
   "metadata": {},
   "outputs": [
    {
     "data": {
      "text/plain": [
       "True"
      ]
     },
     "execution_count": 143,
     "metadata": {},
     "output_type": "execute_result"
    }
   ],
   "source": [
    "len(df_sales) == len(df_sales.index)"
   ]
  },
  {
   "cell_type": "markdown",
   "id": "f7d74c9e",
   "metadata": {},
   "source": [
    "### Missing values"
   ]
  },
  {
   "cell_type": "code",
   "execution_count": 144,
   "id": "0e88fa5e",
   "metadata": {},
   "outputs": [
    {
     "data": {
      "text/plain": [
       "MonthYear          0.000000\n",
       "Time index         0.000000\n",
       "Country            0.000000\n",
       "StoreID            0.000000\n",
       "City               0.000000\n",
       "Dept_ID            0.000000\n",
       "Dept. Name         0.000000\n",
       "HoursOwn           0.026144\n",
       "HoursLease         0.000000\n",
       "Sales units        0.000000\n",
       "Turnover           0.000000\n",
       "Customer         100.000000\n",
       "Area (m2)         11.111111\n",
       "Opening hours      0.000000\n",
       "dtype: float64"
      ]
     },
     "execution_count": 144,
     "metadata": {},
     "output_type": "execute_result"
    }
   ],
   "source": [
    "df_sales.isnull().mean() * 100"
   ]
  },
  {
   "cell_type": "code",
   "execution_count": 145,
   "id": "1751fc88",
   "metadata": {},
   "outputs": [],
   "source": [
    "# drop column where all values are empty\n",
    "\n",
    "df_sales.drop('Customer', axis=1, inplace=True)"
   ]
  },
  {
   "cell_type": "code",
   "execution_count": 146,
   "id": "674e16f7",
   "metadata": {},
   "outputs": [
    {
     "data": {
      "text/plain": [
       "array(['2017-06-01T00:00:00.000000000'], dtype='datetime64[ns]')"
      ]
     },
     "execution_count": 146,
     "metadata": {},
     "output_type": "execute_result"
    }
   ],
   "source": [
    "# period containing missing values of 'Area' column\n",
    "\n",
    "df_sales[df_sales['Area (m2)'].isna()]['MonthYear'].unique()"
   ]
  },
  {
   "cell_type": "code",
   "execution_count": 147,
   "id": "007582a1",
   "metadata": {},
   "outputs": [],
   "source": [
    "# fill missing values with mean value by store and department\n",
    "\n",
    "df_mean_area = df_sales.groupby(['StoreID', 'Dept_ID'], as_index=False) \\\n",
    "                       .agg({'Area (m2)': 'mean'}) \\\n",
    "                       .rename(columns={'Area (m2)': 'mean_area'})\n",
    "df_sales = df_sales.merge(df_mean_area)\n",
    "df_sales['Area (m2)'].fillna(df_sales['mean_area'], inplace=True)\n",
    "df_sales.drop('mean_area', axis=1, inplace=True)"
   ]
  },
  {
   "cell_type": "code",
   "execution_count": 148,
   "id": "5e989ad6",
   "metadata": {},
   "outputs": [],
   "source": [
    "df_mean_hours_own = df_sales.groupby(['StoreID', 'Dept_ID'], as_index=False) \\\n",
    "                            .agg({'HoursOwn': 'mean'}) \\\n",
    "                            .rename(columns={'HoursOwn': 'mean_HoursOwn'})\n",
    "df_sales = df_sales.merge(df_mean_hours_own)\n",
    "df_sales['HoursOwn'].fillna(df_sales['mean_HoursOwn'], inplace=True)\n",
    "df_sales.drop('mean_HoursOwn', axis=1, inplace=True)"
   ]
  },
  {
   "cell_type": "markdown",
   "id": "f050df2e",
   "metadata": {},
   "source": [
    "### Outliers detection"
   ]
  },
  {
   "cell_type": "code",
   "execution_count": 149,
   "id": "f435edf4",
   "metadata": {},
   "outputs": [
    {
     "data": {
      "text/html": [
       "<div>\n",
       "<style scoped>\n",
       "    .dataframe tbody tr th:only-of-type {\n",
       "        vertical-align: middle;\n",
       "    }\n",
       "\n",
       "    .dataframe tbody tr th {\n",
       "        vertical-align: top;\n",
       "    }\n",
       "\n",
       "    .dataframe thead th {\n",
       "        text-align: right;\n",
       "    }\n",
       "</style>\n",
       "<table border=\"1\" class=\"dataframe\">\n",
       "  <thead>\n",
       "    <tr style=\"text-align: right;\">\n",
       "      <th></th>\n",
       "      <th>Time index</th>\n",
       "      <th>StoreID</th>\n",
       "      <th>Dept_ID</th>\n",
       "      <th>HoursOwn</th>\n",
       "      <th>HoursLease</th>\n",
       "      <th>Sales units</th>\n",
       "      <th>Turnover</th>\n",
       "      <th>Area (m2)</th>\n",
       "    </tr>\n",
       "  </thead>\n",
       "  <tbody>\n",
       "    <tr>\n",
       "      <th>count</th>\n",
       "      <td>7650.000000</td>\n",
       "      <td>7650.000000</td>\n",
       "      <td>7650.000000</td>\n",
       "      <td>7650.000000</td>\n",
       "      <td>7650.000000</td>\n",
       "      <td>7.650000e+03</td>\n",
       "      <td>7.650000e+03</td>\n",
       "      <td>7650.000000</td>\n",
       "    </tr>\n",
       "    <tr>\n",
       "      <th>mean</th>\n",
       "      <td>5.000000</td>\n",
       "      <td>61995.220000</td>\n",
       "      <td>9.470588</td>\n",
       "      <td>7721.257213</td>\n",
       "      <td>22.036078</td>\n",
       "      <td>1.076471e+06</td>\n",
       "      <td>3.721393e+06</td>\n",
       "      <td>7557.276935</td>\n",
       "    </tr>\n",
       "    <tr>\n",
       "      <th>std</th>\n",
       "      <td>2.582158</td>\n",
       "      <td>29924.581631</td>\n",
       "      <td>5.337429</td>\n",
       "      <td>12320.666026</td>\n",
       "      <td>133.299513</td>\n",
       "      <td>1.728113e+06</td>\n",
       "      <td>6.003380e+06</td>\n",
       "      <td>10726.734047</td>\n",
       "    </tr>\n",
       "    <tr>\n",
       "      <th>min</th>\n",
       "      <td>1.000000</td>\n",
       "      <td>12227.000000</td>\n",
       "      <td>1.000000</td>\n",
       "      <td>0.000000</td>\n",
       "      <td>0.000000</td>\n",
       "      <td>0.000000e+00</td>\n",
       "      <td>0.000000e+00</td>\n",
       "      <td>0.000000</td>\n",
       "    </tr>\n",
       "    <tr>\n",
       "      <th>25%</th>\n",
       "      <td>3.000000</td>\n",
       "      <td>29650.000000</td>\n",
       "      <td>5.000000</td>\n",
       "      <td>1951.926750</td>\n",
       "      <td>0.000000</td>\n",
       "      <td>5.457125e+04</td>\n",
       "      <td>2.726798e+05</td>\n",
       "      <td>563.160000</td>\n",
       "    </tr>\n",
       "    <tr>\n",
       "      <th>50%</th>\n",
       "      <td>5.000000</td>\n",
       "      <td>75400.500000</td>\n",
       "      <td>9.000000</td>\n",
       "      <td>3508.905000</td>\n",
       "      <td>0.000000</td>\n",
       "      <td>2.932300e+05</td>\n",
       "      <td>9.319575e+05</td>\n",
       "      <td>1212.960000</td>\n",
       "    </tr>\n",
       "    <tr>\n",
       "      <th>75%</th>\n",
       "      <td>7.000000</td>\n",
       "      <td>87703.000000</td>\n",
       "      <td>14.000000</td>\n",
       "      <td>7430.067000</td>\n",
       "      <td>0.000000</td>\n",
       "      <td>9.175075e+05</td>\n",
       "      <td>3.264432e+06</td>\n",
       "      <td>11153.190000</td>\n",
       "    </tr>\n",
       "    <tr>\n",
       "      <th>max</th>\n",
       "      <td>9.000000</td>\n",
       "      <td>98422.000000</td>\n",
       "      <td>18.000000</td>\n",
       "      <td>93783.747000</td>\n",
       "      <td>3984.000000</td>\n",
       "      <td>1.124296e+07</td>\n",
       "      <td>4.271739e+07</td>\n",
       "      <td>40853.040000</td>\n",
       "    </tr>\n",
       "  </tbody>\n",
       "</table>\n",
       "</div>"
      ],
      "text/plain": [
       "        Time index       StoreID      Dept_ID      HoursOwn   HoursLease  \\\n",
       "count  7650.000000   7650.000000  7650.000000   7650.000000  7650.000000   \n",
       "mean      5.000000  61995.220000     9.470588   7721.257213    22.036078   \n",
       "std       2.582158  29924.581631     5.337429  12320.666026   133.299513   \n",
       "min       1.000000  12227.000000     1.000000      0.000000     0.000000   \n",
       "25%       3.000000  29650.000000     5.000000   1951.926750     0.000000   \n",
       "50%       5.000000  75400.500000     9.000000   3508.905000     0.000000   \n",
       "75%       7.000000  87703.000000    14.000000   7430.067000     0.000000   \n",
       "max       9.000000  98422.000000    18.000000  93783.747000  3984.000000   \n",
       "\n",
       "        Sales units      Turnover     Area (m2)  \n",
       "count  7.650000e+03  7.650000e+03   7650.000000  \n",
       "mean   1.076471e+06  3.721393e+06   7557.276935  \n",
       "std    1.728113e+06  6.003380e+06  10726.734047  \n",
       "min    0.000000e+00  0.000000e+00      0.000000  \n",
       "25%    5.457125e+04  2.726798e+05    563.160000  \n",
       "50%    2.932300e+05  9.319575e+05   1212.960000  \n",
       "75%    9.175075e+05  3.264432e+06  11153.190000  \n",
       "max    1.124296e+07  4.271739e+07  40853.040000  "
      ]
     },
     "execution_count": 149,
     "metadata": {},
     "output_type": "execute_result"
    }
   ],
   "source": [
    "df_sales.describe()"
   ]
  },
  {
   "cell_type": "code",
   "execution_count": 150,
   "id": "987cc003",
   "metadata": {},
   "outputs": [
    {
     "data": {
      "image/png": "[encoded data removed]",
      "text/plain": [
       "<Figure size 864x1008 with 10 Axes>"
      ]
     },
     "metadata": {},
     "output_type": "display_data"
    }
   ],
   "source": [
    "num_columns = ['HoursOwn', 'HoursLease', 'Sales units', 'Turnover', 'Area (m2)']\n",
    "cat_columns= ['Country', 'City', 'Dept. Name', 'Opening hours']\n",
    "\n",
    "fig, ax = plt.subplots(5, 2, figsize=(12, 14))\n",
    "for i, col in enumerate(num_columns):\n",
    "    ax[i][0].boxplot(df_sales.loc[:, col])\n",
    "    ax[i][0].set_title(col)\n",
    "    ax[i][1].hist(df_sales.loc[:, col])\n",
    "    ax[i][1].set_title(col)\n",
    "plt.tight_layout()"
   ]
  },
  {
   "cell_type": "markdown",
   "id": "631f7acc",
   "metadata": {},
   "source": [
    "There are some values which are far from the median but it's all right."
   ]
  },
  {
   "cell_type": "markdown",
   "id": "31dca171",
   "metadata": {},
   "source": [
    "### Categorical features check"
   ]
  },
  {
   "cell_type": "code",
   "execution_count": 151,
   "id": "8dcd1254",
   "metadata": {},
   "outputs": [
    {
     "data": {
      "image/png": "[encoded data removed]",
      "text/plain": [
       "<Figure size 1152x864 with 4 Axes>"
      ]
     },
     "metadata": {},
     "output_type": "display_data"
    }
   ],
   "source": [
    "fig, ax = plt.subplots(2, 2, figsize=(16, 12))\n",
    "for i, col in enumerate(cat_columns):\n",
    "    data = df_sales.loc[:, col].value_counts()\n",
    "    ax[i // 2][i % 2].bar(x=data.index, height=data.values)\n",
    "    ax[i // 2][i % 2].set_title(col)\n",
    "    ax[i // 2][i % 2].tick_params(axis='x', labelrotation=90)\n",
    "plt.tight_layout()"
   ]
  }
 ],
 "metadata": {
  "kernelspec": {
   "display_name": "Python 3 (ipykernel)",
   "language": "python",
   "name": "python3"
  },
  "language_info": {
   "codemirror_mode": {
    "name": "ipython",
    "version": 3
   },
   "file_extension": ".py",
   "mimetype": "text/x-python",
   "name": "python",
   "nbconvert_exporter": "python",
   "pygments_lexer": "ipython3",
   "version": "3.8.10"
  }
 },
 "nbformat": 4,
 "nbformat_minor": 5
}
